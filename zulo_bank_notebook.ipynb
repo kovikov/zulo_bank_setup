{
 "cells": [
  {
   "cell_type": "code",
   "execution_count": 1,
   "id": "5ccd4fe6",
   "metadata": {},
   "outputs": [],
   "source": [
    "# import libaries\n",
    "import pandas as pd\n",
    "import numpy as np\n",
    "import matplotlib.pyplot as plt\n",
    "from datetime import datetime, timedelta"
   ]
  },
  {
   "cell_type": "code",
   "execution_count": null,
   "id": "0d9e9b9f",
   "metadata": {},
   "outputs": [],
   "source": [
    "zulo_bank = pd.read_csv(\"\"C:\\Users\\renef\")"
   ]
  }
 ],
 "metadata": {
  "kernelspec": {
   "display_name": "base",
   "language": "python",
   "name": "python3"
  },
  "language_info": {
   "codemirror_mode": {
    "name": "ipython",
    "version": 3
   },
   "file_extension": ".py",
   "mimetype": "text/x-python",
   "name": "python",
   "nbconvert_exporter": "python",
   "pygments_lexer": "ipython3",
   "version": "3.12.7"
  }
 },
 "nbformat": 4,
 "nbformat_minor": 5
}
